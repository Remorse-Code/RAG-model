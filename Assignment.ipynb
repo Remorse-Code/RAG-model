{
  "nbformat": 4,
  "nbformat_minor": 0,
  "metadata": {
    "colab": {
      "provenance": [],
      "authorship_tag": "ABX9TyPxY2zuLlaCDXMUAQLP+lcH",
      "include_colab_link": true
    },
    "kernelspec": {
      "name": "python3",
      "display_name": "Python 3"
    },
    "language_info": {
      "name": "python"
    }
  },
  "cells": [
    {
      "cell_type": "markdown",
      "metadata": {
        "id": "view-in-github",
        "colab_type": "text"
      },
      "source": [
        "<a href=\"https://colab.research.google.com/github/Remorse-Code/RAG-model/blob/main/Assignment.ipynb\" target=\"_parent\"><img src=\"https://colab.research.google.com/assets/colab-badge.svg\" alt=\"Open In Colab\"/></a>"
      ]
    },
    {
      "cell_type": "code",
      "execution_count": null,
      "metadata": {
        "collapsed": true,
        "id": "ne2VIhIRvQoc"
      },
      "outputs": [],
      "source": [
        "!git clone https://github.com/awsdocs/aws-lambda-developer-guide.git"
      ]
    },
    {
      "cell_type": "code",
      "source": [
        "!pip install \\\n",
        "  langchain_community \\\n",
        "  langchain_pinecone \\\n",
        "  langchain_openai \\\n",
        "  unstructured \\\n",
        "  langchain-text-splitters\n",
        "\n",
        "!pip install -qU langchain-pinecone pinecone-notebooks"
      ],
      "metadata": {
        "id": "iCyewMVKx1gj"
      },
      "execution_count": null,
      "outputs": []
    },
    {
      "cell_type": "code",
      "source": [
        "from langchain_pinecone import PineconeVectorStore\n",
        "from langchain_openai import OpenAIEmbeddings\n",
        "from langchain_community.document_loaders import DirectoryLoader\n",
        "from langchain_text_splitters import RecursiveCharacterTextSplitter\n",
        "import os\n",
        "import glob"
      ],
      "metadata": {
        "id": "mrBFSWp9yabJ"
      },
      "execution_count": null,
      "outputs": []
    },
    {
      "cell_type": "code",
      "source": [
        "loader = DirectoryLoader('aws-lambda-developer-guide', glob=\"**/*.md\")\n",
        "documents = loader.load()"
      ],
      "metadata": {
        "id": "G244J_PiPy6I"
      },
      "execution_count": null,
      "outputs": []
    },
    {
      "cell_type": "code",
      "source": [
        "documents[0]"
      ],
      "metadata": {
        "id": "Aop4vgwgOgyH"
      },
      "execution_count": null,
      "outputs": []
    },
    {
      "cell_type": "code",
      "source": [
        "from google.colab import userdata\n",
        "os.environ['OPENAI_API_KEY'] = userdata.get('openai_api_key')\n",
        "os.environ['PINECONE_API_KEY'] = userdata.get('PINECONE_API_KEY')"
      ],
      "metadata": {
        "id": "1wXj8B1DiA1z"
      },
      "execution_count": null,
      "outputs": []
    },
    {
      "cell_type": "code",
      "source": [
        "embeddings = OpenAIEmbeddings(\n",
        "    model = \"text-embedding-3-small\"\n",
        ")\n",
        "\n",
        "index_name = \"pinecone-chatbot\"\n",
        "\n",
        "#splitting docs into chunks\n",
        "text_splitter = RecursiveCharacterTextSplitter(\n",
        "    chunk_size=1500,\n",
        "    chunk_overlap=20\n",
        ")\n",
        "split_docs = text_splitter.split_documents(documents)"
      ],
      "metadata": {
        "id": "-ybVvsKliU_P"
      },
      "execution_count": null,
      "outputs": []
    },
    {
      "cell_type": "code",
      "source": [
        "split_docs[25]"
      ],
      "metadata": {
        "colab": {
          "base_uri": "https://localhost:8080/"
        },
        "id": "j7gErIrajAhP",
        "outputId": "a59281d3-89eb-4bc8-91ae-72f5c5300b6a"
      },
      "execution_count": null,
      "outputs": [
        {
          "output_type": "execute_result",
          "data": {
            "text/plain": [
              "Document(metadata={'source': 'aws-lambda-developer-guide/sample-apps/efs-nodejs/README.md', 'text': 'Test\\n\\nTo invoke the function with a test event, use the invoke script.\\n\\nefs-nodejs$ ./4-invoke.sh\\n{\\n    \"StatusCode\": 200,\\n    \"ExecutedVersion\": \"$LATEST\"\\n}\\n{\"writeTimeMs\":3.316225,\"readTimeMs\":166.129772,\"fileSizeBytes\":1398104}\\n\\nLet the script invoke the function a few times and then press CRTL+C to exit.\\n\\nCleanup\\n\\nTo delete the application, run the cleanup script.\\n\\nefs-nodejs$ ./5-cleanup.sh'}, page_content='Test\\n\\nTo invoke the function with a test event, use the invoke script.\\n\\nefs-nodejs$ ./4-invoke.sh\\n{\\n    \"StatusCode\": 200,\\n    \"ExecutedVersion\": \"$LATEST\"\\n}\\n{\"writeTimeMs\":3.316225,\"readTimeMs\":166.129772,\"fileSizeBytes\":1398104}\\n\\nLet the script invoke the function a few times and then press CRTL+C to exit.\\n\\nCleanup\\n\\nTo delete the application, run the cleanup script.\\n\\nefs-nodejs$ ./5-cleanup.sh')"
            ]
          },
          "metadata": {},
          "execution_count": 30
        }
      ]
    },
    {
      "cell_type": "code",
      "source": [
        "vectorstore = PineconeVectorStore.from_documents(\n",
        "    documents=split_docs,\n",
        "    embedding=embeddings,\n",
        "    index_name=index_name\n",
        ")"
      ],
      "metadata": {
        "id": "rMRtUXZajIfi"
      },
      "execution_count": null,
      "outputs": []
    },
    {
      "cell_type": "code",
      "source": [
        "query = \"What is the X-Ray\"\n",
        "\n",
        "similar_docs = vectorstore.similarity_search(query)\n",
        "similar_docs"
      ],
      "metadata": {
        "id": "C5vnCWwMnMED"
      },
      "execution_count": null,
      "outputs": []
    },
    {
      "cell_type": "code",
      "source": [
        "from langchain_openai import ChatOpenAI\n",
        "from langchain.chains import RetrievalQA\n",
        "\n",
        "llm = ChatOpenAI(\n",
        "    model_name=\"gpt-3.5-turbo\",\n",
        "    temperature=0\n",
        ")\n",
        "\n",
        "qa_chain = RetrievalQA.from_chain_type(\n",
        "    llm,\n",
        "    retriever=vectorstore.as_retriever()\n",
        ")\n",
        "\n",
        "qa_chain({\"query\": query})"
      ],
      "metadata": {
        "id": "9dt69pSBnfRt"
      },
      "execution_count": null,
      "outputs": []
    }
  ]
}